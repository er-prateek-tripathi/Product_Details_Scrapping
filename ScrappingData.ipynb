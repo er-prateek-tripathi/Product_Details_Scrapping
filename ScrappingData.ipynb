{
 "cells": [
  {
   "cell_type": "code",
   "execution_count": 1,
   "metadata": {
    "collapsed": true
   },
   "outputs": [],
   "source": [
    "import requests\n",
    "from bs4 import BeautifulSoup"
   ]
  },
  {
   "cell_type": "code",
   "execution_count": 2,
   "outputs": [],
   "source": [
    "# Define the search query entered by the user\n",
    "search_query = \"iphone 12\""
   ],
   "metadata": {
    "collapsed": false
   }
  },
  {
   "cell_type": "code",
   "execution_count": 3,
   "outputs": [],
   "source": [
    "# Define the URL for Amazon\n",
    "amazon_url = f\"https://www.amazon.in/s?field-keywords={search_query}\""
   ],
   "metadata": {
    "collapsed": false
   }
  },
  {
   "cell_type": "code",
   "execution_count": 4,
   "outputs": [],
   "source": [
    "# Define the URL for Flipkart\n",
    "flipkart_url = f\"https://www.flipkart.com/search?q={search_query}\""
   ],
   "metadata": {
    "collapsed": false
   }
  },
  {
   "cell_type": "code",
   "execution_count": 5,
   "outputs": [],
   "source": [
    "# Send an HTTP request to Amazon and retrieve the HTML content\n",
    "amazon_response = requests.get(amazon_url)\n",
    "amazon_content = amazon_response.content"
   ],
   "metadata": {
    "collapsed": false
   }
  },
  {
   "cell_type": "code",
   "execution_count": 6,
   "outputs": [],
   "source": [
    "# Send an HTTP request to Flipkart and retrieve the HTML content\n",
    "flipkart_response = requests.get(flipkart_url)\n",
    "flipkart_content = flipkart_response.content"
   ],
   "metadata": {
    "collapsed": false
   }
  },
  {
   "cell_type": "code",
   "execution_count": 7,
   "outputs": [],
   "source": [
    "# Create a BeautifulSoup object for Amazon\n",
    "amazon_soup = BeautifulSoup(amazon_content, \"html.parser\")"
   ],
   "metadata": {
    "collapsed": false
   }
  },
  {
   "cell_type": "code",
   "execution_count": 8,
   "outputs": [],
   "source": [
    "# Create a BeautifulSoup object for Flipkart\n",
    "flipkart_soup = BeautifulSoup(flipkart_content, \"html.parser\")"
   ],
   "metadata": {
    "collapsed": false
   }
  },
  {
   "cell_type": "code",
   "execution_count": 9,
   "outputs": [],
   "source": [
    "# Extract the product information from Amazon\n",
    "amazon_products = []\n",
    "amazon_product_containers = amazon_soup.find_all(\"div\", class_=\"s-result-item\")\n",
    "for container in amazon_product_containers:\n",
    "    product = {\"name\": container.find(\"span\", class_=\"a-size-medium\").text,\n",
    "               \"price\": container.find(\"span\", class_=\"a-offscreen\").text,\n",
    "               \"url\": container.find(\"a\", class_=\"a-link-normal\")[\"href\"]}\n",
    "    amazon_products.append(product)"
   ],
   "metadata": {
    "collapsed": false
   }
  },
  {
   "cell_type": "code",
   "execution_count": 10,
   "outputs": [],
   "source": [
    "# Extract the product information from Flipkart\n",
    "flipkart_products = []\n",
    "flipkart_product_containers = flipkart_soup.find_all(\"div\", class_=\"_3O0U0u\")\n",
    "for container in flipkart_product_containers:\n",
    "    product = {\"name\": container.find(\"div\", class_=\"_3wU53n\").text,\n",
    "               \"price\": container.find(\"div\", class_=\"_1vC4OE_2rQ-NK\").text,\n",
    "               \"url\": container.find(\"a\", class_=\"_31qSD5\")[\"href\"]}\n",
    "    flipkart_products.append(product)"
   ],
   "metadata": {
    "collapsed": false
   }
  },
  {
   "cell_type": "code",
   "execution_count": 11,
   "outputs": [
    {
     "name": "stdout",
     "output_type": "stream",
     "text": [
      "Amazon products:\n"
     ]
    }
   ],
   "source": [
    "# Print the extracted product information for Amazon\n",
    "print(\"Amazon products:\")\n",
    "for product in amazon_products:\n",
    "    print(f\"Name: {product['name']}\")\n",
    "    print(f\"Price: {product['price']}\")\n",
    "    print(f\"URL: {product['url']}\")\n",
    "    print(\"---\")"
   ],
   "metadata": {
    "collapsed": false
   }
  },
  {
   "cell_type": "code",
   "execution_count": null,
   "outputs": [],
   "source": [
    "# Print the extracted product information for Flipkart\n",
    "print(\"Flipkart products:\")\n",
    "for product in flipkart_products:\n",
    "    print(f\"Name: {product['name']}\")\n",
    "    print(f\"Price: {product['price']}\")\n",
    "    print(f\"URL: {product['url']}\")\n",
    "    print(\"---\")"
   ],
   "metadata": {
    "collapsed": false
   }
  }
 ],
 "metadata": {
  "kernelspec": {
   "display_name": "Python 3",
   "language": "python",
   "name": "python3"
  },
  "language_info": {
   "codemirror_mode": {
    "name": "ipython",
    "version": 2
   },
   "file_extension": ".py",
   "mimetype": "text/x-python",
   "name": "python",
   "nbconvert_exporter": "python",
   "pygments_lexer": "ipython2",
   "version": "2.7.6"
  }
 },
 "nbformat": 4,
 "nbformat_minor": 0
}
